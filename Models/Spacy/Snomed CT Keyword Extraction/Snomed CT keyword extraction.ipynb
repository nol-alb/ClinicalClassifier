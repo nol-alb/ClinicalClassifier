{
 "cells": [
  {
   "cell_type": "code",
   "execution_count": 1,
   "metadata": {},
   "outputs": [],
   "source": [
    "from urllib.request import urlopen\n",
    "from urllib.parse import quote\n",
    "import json\n"
   ]
  },
  {
   "cell_type": "code",
   "execution_count": 3,
   "metadata": {},
   "outputs": [
    {
     "name": "stdout",
     "output_type": "stream",
     "text": [
      "Bilirubin test kit (physical object)\n",
      "Methylphenyltetrahydropyridine (substance)\n",
      "471023\n",
      "864\n"
     ]
    }
   ],
   "source": [
    "baseUrl = 'https://browser.ihtsdotools.org/snowstorm/snomed-ct'\n",
    "edition = 'MAIN'\n",
    "version = '2019-07-31'\n",
    "\n",
    "#Prints fsn of a concept\n",
    "def getConceptById(id):\n",
    "    url = baseUrl + '/browser/' + edition + '/' + version + '/concepts/' + id\n",
    "    response = urlopen(url).read()\n",
    "    data = json.loads(response.decode('utf-8'))\n",
    "\n",
    "    print (data['fsn']['term'])\n",
    "\n",
    "#Prints description by id\n",
    "def getDescriptionById(id):\n",
    "    url = baseUrl + '/' + edition + '/' + version + '/descriptions/' + id\n",
    "    response = urlopen(url).read()\n",
    "    data = json.loads(response.decode('utf-8'))\n",
    "\n",
    "    print (data['term'])\n",
    "\n",
    "#Prints number of concepts with descriptions containing the search term\n",
    "def getConceptsByString(searchTerm):\n",
    "    url = baseUrl + '/browser/' + edition + '/' + version + '/concepts?term=' + quote(searchTerm) + '&activeFilter=true&offset=0&limit=50'\n",
    "    response = urlopen(url).read()\n",
    "    data = json.loads(response.decode('utf-8'))\n",
    "\n",
    "    print (data['total'])\n",
    "\n",
    "#Prints number of descriptions containing the search term with a specific semantic tag\n",
    "def getDescriptionsByStringFromProcedure(searchTerm, semanticTag):\n",
    "    url = baseUrl + '/browser/' + edition + '/' + version + '/descriptions?term=' + quote(searchTerm) + '&conceptActive=true&semanticTag=' + quote(semanticTag) + '&groupByConcept=false&searchMode=STANDARD&offset=0&limit=50'\n",
    "    response = urlopen(url).read()\n",
    "    data = json.loads(response.decode('utf-8'))\n",
    "\n",
    "    print (data['totalElements'])\n",
    "\n",
    "getConceptById('109152007')\n",
    "getDescriptionById('679406011')\n",
    "getConceptsByString('Heart')\n",
    "getDescriptionsByStringFromProcedure('heart', 'procedure')"
   ]
  },
  {
   "cell_type": "code",
   "execution_count": null,
   "metadata": {},
   "outputs": [],
   "source": []
  }
 ],
 "metadata": {
  "kernelspec": {
   "display_name": "Python 3",
   "language": "python",
   "name": "python3"
  },
  "language_info": {
   "codemirror_mode": {
    "name": "ipython",
    "version": 3
   },
   "file_extension": ".py",
   "mimetype": "text/x-python",
   "name": "python",
   "nbconvert_exporter": "python",
   "pygments_lexer": "ipython3",
   "version": "3.6.12"
  }
 },
 "nbformat": 4,
 "nbformat_minor": 4
}
